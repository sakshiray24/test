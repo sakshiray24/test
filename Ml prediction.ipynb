{
 "cells": [
  {
   "cell_type": "code",
   "execution_count": 16,
   "id": "0de3e1b8-0c85-41da-bd19-9f6bb1aa883d",
   "metadata": {},
   "outputs": [],
   "source": [
    "import pandas as pd\n",
    "import joblib"
   ]
  },
  {
   "cell_type": "code",
   "execution_count": 17,
   "id": "6fe263dc-de42-49cc-8a82-abcf27f424ae",
   "metadata": {},
   "outputs": [],
   "source": [
    "## load Test Data set \n",
    "test_data = pd.read_csv('../data/Bank_Personal_Loan_Modelling.csv')"
   ]
  },
  {
   "cell_type": "code",
   "execution_count": 18,
   "id": "cfdd1914-d885-4e70-97f6-d66139c86fe8",
   "metadata": {},
   "outputs": [],
   "source": [
    "test_data['Gender'] = 'M'\n",
    "test_data.loc[10:50,'Gender'] = 'F'"
   ]
  },
  {
   "cell_type": "code",
   "execution_count": 19,
   "id": "9cbb225c-45e4-4e71-9018-44339467bd4c",
   "metadata": {},
   "outputs": [
    {
     "data": {
      "text/plain": [
       "M    4959\n",
       "F      41\n",
       "Name: Gender, dtype: int64"
      ]
     },
     "execution_count": 19,
     "metadata": {},
     "output_type": "execute_result"
    }
   ],
   "source": [
    "test_data['Gender'].value_counts()"
   ]
  },
  {
   "cell_type": "code",
   "execution_count": 22,
   "id": "0b42e3cf-2e00-4c1b-bbe8-8d6f9061162b",
   "metadata": {},
   "outputs": [],
   "source": [
    "## Load Features and model weight\n",
    "train_features = joblib.load(\"../model_features/train_features.joblib\")\n",
    "model = joblib.load(\"../model_weights/my_random_forest.joblib\")\n",
    "encoder = joblib.load(\"../model_features/encoder.joblib\")"
   ]
  },
  {
   "cell_type": "code",
   "execution_count": 23,
   "id": "adf79859-b43a-4152-a13f-95fd3c49e560",
   "metadata": {},
   "outputs": [
    {
     "data": {
      "text/plain": [
       "array(['Age', 'Experience', 'Income', 'Family', 'CCAvg', 'Education',\n",
       "       'Mortgage', 'Securities Account', 'CD Account', 'Online',\n",
       "       'CreditCard', 'Gender'], dtype=object)"
      ]
     },
     "execution_count": 23,
     "metadata": {},
     "output_type": "execute_result"
    }
   ],
   "source": [
    "train_features"
   ]
  },
  {
   "cell_type": "code",
   "execution_count": 24,
   "id": "e7ef3c32-9e62-428f-98d6-217116d259bd",
   "metadata": {},
   "outputs": [],
   "source": [
    "test_data_features = test_data[train_features]"
   ]
  },
  {
   "cell_type": "code",
   "execution_count": 25,
   "id": "813c0d6c-d756-49d5-8255-bf6f2e11eef5",
   "metadata": {},
   "outputs": [
    {
     "name": "stderr",
     "output_type": "stream",
     "text": [
      "/var/folders/nc/7jztwfzd53n629c4bt57cpr80000gn/T/ipykernel_21444/4147976791.py:1: SettingWithCopyWarning: \n",
      "A value is trying to be set on a copy of a slice from a DataFrame.\n",
      "Try using .loc[row_indexer,col_indexer] = value instead\n",
      "\n",
      "See the caveats in the documentation: https://pandas.pydata.org/pandas-docs/stable/user_guide/indexing.html#returning-a-view-versus-a-copy\n",
      "  test_data_features['Gender'] = encoder.transform(test_data_features['Gender'])\n"
     ]
    }
   ],
   "source": [
    "test_data_features['Gender'] = encoder.transform(test_data_features['Gender'])"
   ]
  },
  {
   "cell_type": "code",
   "execution_count": 26,
   "id": "367078ff-57ad-4179-9873-e05434634f00",
   "metadata": {},
   "outputs": [],
   "source": [
    "y_prediction = model.predict(test_data_features)"
   ]
  },
  {
   "cell_type": "code",
   "execution_count": 27,
   "id": "ab9ad244-a6c6-494d-b5fe-c9a11290d68e",
   "metadata": {},
   "outputs": [],
   "source": [
    "test_data['prediction'] = y_prediction"
   ]
  },
  {
   "cell_type": "code",
   "execution_count": 28,
   "id": "ac7efa80-b2e7-41bd-ac3b-6e10955c55b8",
   "metadata": {},
   "outputs": [
    {
     "data": {
      "text/plain": [
       "0    4535\n",
       "1     465\n",
       "Name: prediction, dtype: int64"
      ]
     },
     "execution_count": 28,
     "metadata": {},
     "output_type": "execute_result"
    }
   ],
   "source": [
    "test_data['prediction'].value_counts()"
   ]
  },
  {
   "cell_type": "code",
   "execution_count": 29,
   "id": "a134894b-6647-456d-ac34-13a0c3f02baa",
   "metadata": {},
   "outputs": [
    {
     "name": "stdout",
     "output_type": "stream",
     "text": [
      "[[4518   17]\n",
      " [   2  463]]\n"
     ]
    }
   ],
   "source": [
    "from sklearn.metrics import confusion_matrix , classification_report\n",
    "print(confusion_matrix(test_data['prediction'],test_data['Personal Loan']))"
   ]
  },
  {
   "cell_type": "code",
   "execution_count": 30,
   "id": "4a979073-a324-433d-af55-1364b41d84ff",
   "metadata": {},
   "outputs": [
    {
     "name": "stdout",
     "output_type": "stream",
     "text": [
      "              precision    recall  f1-score   support\n",
      "\n",
      "           0       1.00      1.00      1.00      4535\n",
      "           1       0.96      1.00      0.98       465\n",
      "\n",
      "    accuracy                           1.00      5000\n",
      "   macro avg       0.98      1.00      0.99      5000\n",
      "weighted avg       1.00      1.00      1.00      5000\n",
      "\n"
     ]
    }
   ],
   "source": [
    "print(classification_report(test_data['prediction'],test_data['Personal Loan']))"
   ]
  },
  {
   "cell_type": "code",
   "execution_count": null,
   "id": "a0c161ce-42f6-48ed-b027-16c6abd88f12",
   "metadata": {},
   "outputs": [],
   "source": []
  },
  {
   "cell_type": "code",
   "execution_count": null,
   "id": "f1fac615-85ce-4f20-a6ad-28ea1b50b131",
   "metadata": {},
   "outputs": [],
   "source": []
  }
 ],
 "metadata": {
  "kernelspec": {
   "display_name": "Python 3 (ipykernel)",
   "language": "python",
   "name": "python3"
  },
  "language_info": {
   "codemirror_mode": {
    "name": "ipython",
    "version": 3
   },
   "file_extension": ".py",
   "mimetype": "text/x-python",
   "name": "python",
   "nbconvert_exporter": "python",
   "pygments_lexer": "ipython3",
   "version": "3.12.7"
  }
 },
 "nbformat": 4,
 "nbformat_minor": 5
}
